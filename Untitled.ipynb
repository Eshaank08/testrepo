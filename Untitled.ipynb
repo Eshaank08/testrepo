{
 "cells": [
  {
   "cell_type": "markdown",
   "id": "e0f614d1-33ef-4d39-9a34-48f85d1970d4",
   "metadata": {},
   "source": [
    "<h1>My Jupyter Notebook on IBM Watson Studio</h1>"
   ]
  },
  {
   "cell_type": "markdown",
   "id": "e55901d8-343c-419f-8234-90da508bbf0f",
   "metadata": {},
   "source": [
    "<B>ESHAAN KANSAL</B>"
   ]
  },
  {
   "cell_type": "markdown",
   "id": "c793a0a8-abea-4489-8d24-53f6c604eff2",
   "metadata": {},
   "source": [
    "I am interested in data science because i have a passion for programming and science and i want to work with data."
   ]
  },
  {
   "cell_type": "markdown",
   "id": "47d38c9b-6796-484c-9237-004502fe1070",
   "metadata": {},
   "source": [
    "<h3>Multiplication</h3>"
   ]
  },
  {
   "cell_type": "code",
   "execution_count": null,
   "id": "6c31ce08-7c26-4856-89d4-5284bc93bbbb",
   "metadata": {},
   "outputs": [],
   "source": [
    "23*3"
   ]
  },
  {
   "cell_type": "markdown",
   "id": "fb423bf8-7b96-4915-82a9-346067f697ef",
   "metadata": {},
   "source": [
    "<bl><li>one</li>\n",
    "    <li>two</li>\n",
    "    <li>three</li>\n",
    "    </bl>\n",
    "    "
   ]
  }
 ],
 "metadata": {
  "kernelspec": {
   "display_name": "Python",
   "language": "python",
   "name": "conda-env-python-py"
  },
  "language_info": {
   "codemirror_mode": {
    "name": "ipython",
    "version": 3
   },
   "file_extension": ".py",
   "mimetype": "text/x-python",
   "name": "python",
   "nbconvert_exporter": "python",
   "pygments_lexer": "ipython3",
   "version": "3.7.12"
  }
 },
 "nbformat": 4,
 "nbformat_minor": 5
}
